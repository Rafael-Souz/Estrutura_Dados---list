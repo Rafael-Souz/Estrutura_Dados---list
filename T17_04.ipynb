{
  "nbformat": 4,
  "nbformat_minor": 0,
  "metadata": {
    "colab": {
      "name": "T17-04.ipynb",
      "provenance": [],
      "collapsed_sections": [],
      "include_colab_link": true
    },
    "kernelspec": {
      "name": "python3",
      "display_name": "Python 3"
    },
    "language_info": {
      "name": "python"
    }
  },
  "cells": [
    {
      "cell_type": "markdown",
      "metadata": {
        "id": "view-in-github",
        "colab_type": "text"
      },
      "source": [
        "<a href=\"https://colab.research.google.com/github/Rafael-Souz/Estrutura_Dados---list/blob/main/T17_04.ipynb\" target=\"_parent\"><img src=\"https://colab.research.google.com/assets/colab-badge.svg\" alt=\"Open In Colab\"/></a>"
      ]
    },
    {
      "cell_type": "markdown",
      "source": [
        "# Estrutura de Dados - ``list``\n",
        "\n",
        "Listas são estruturas de dados que permitem armazenar vários tipos de dados ao mesmo tempo. São similares aos vetores, com a vantagem de permitir multiplicidade de dados.\n",
        "\n",
        "Outra característica é que os dados são ordenados através dos índices.\n",
        "\n",
        "Uma lista é indicada por um par de colchetes ``[]``."
      ],
      "metadata": {
        "id": "5ZC9rikWH2O-"
      }
    },
    {
      "cell_type": "code",
      "execution_count": null,
      "metadata": {
        "colab": {
          "base_uri": "https://localhost:8080/"
        },
        "id": "CkGqhtRiGbL8",
        "outputId": "e714bb90-1ea9-4fa4-d32b-f41a731aeea1"
      },
      "outputs": [
        {
          "output_type": "execute_result",
          "data": {
            "text/plain": [
              "[]"
            ]
          },
          "metadata": {},
          "execution_count": 1
        }
      ],
      "source": [
        "lista = [] # lista vazia\n",
        "lista"
      ]
    },
    {
      "cell_type": "code",
      "source": [
        "lista_mista = ['Uninove', 3, 3.42, None, True]\n",
        "lista_mista"
      ],
      "metadata": {
        "colab": {
          "base_uri": "https://localhost:8080/"
        },
        "id": "GkccQ-8AKzdF",
        "outputId": "6f2515bf-37a1-4183-a3d6-8bd5b108db31"
      },
      "execution_count": null,
      "outputs": [
        {
          "output_type": "execute_result",
          "data": {
            "text/plain": [
              "['Uninove', 3, 3.42, None, True]"
            ]
          },
          "metadata": {},
          "execution_count": 3
        }
      ]
    },
    {
      "cell_type": "code",
      "source": [
        "paises = ['Brasil', 'Argentina', 'Chile', 'Canadá', 48]\n",
        "type(paises)"
      ],
      "metadata": {
        "colab": {
          "base_uri": "https://localhost:8080/"
        },
        "id": "iVU3_LeCK-ND",
        "outputId": "57da2d87-33d2-4843-b35b-0ef1d2703a8f"
      },
      "execution_count": null,
      "outputs": [
        {
          "output_type": "execute_result",
          "data": {
            "text/plain": [
              "list"
            ]
          },
          "metadata": {},
          "execution_count": 4
        }
      ]
    },
    {
      "cell_type": "code",
      "source": [
        "# Declaração complexa - lista dentro de lista\n",
        "alunos = [\n",
        "          ['123', 'Aluno 1', 'SI'],\n",
        "          ['234', 'Aluno 2', 'SI']\n",
        "        ]\n",
        "type(alunos)"
      ],
      "metadata": {
        "colab": {
          "base_uri": "https://localhost:8080/"
        },
        "id": "GPTH48i0LdOj",
        "outputId": "7a39aaa1-13c9-4d0d-d602-f4e62b6eb725"
      },
      "execution_count": null,
      "outputs": [
        {
          "output_type": "execute_result",
          "data": {
            "text/plain": [
              "list"
            ]
          },
          "metadata": {},
          "execution_count": 7
        }
      ]
    },
    {
      "cell_type": "markdown",
      "source": [
        "# Acessando elementos de listas\n",
        "\n",
        "``varivavel[<indice>]``"
      ],
      "metadata": {
        "id": "wPIt9kuUMnax"
      }
    },
    {
      "cell_type": "code",
      "source": [
        "#            0          1           2         3\n",
        "paises = ['Brasil', 'Argentina', 'Chile', 'Canadá']\n",
        "print(paises[0]) # primeiro elemento (item)\n",
        "print(paises[2]) # terceiro elemento (item)"
      ],
      "metadata": {
        "colab": {
          "base_uri": "https://localhost:8080/"
        },
        "id": "p_fB1zkiLuvr",
        "outputId": "c3d6c659-bfa8-4824-e5d8-e21d266b9068"
      },
      "execution_count": null,
      "outputs": [
        {
          "output_type": "stream",
          "name": "stdout",
          "text": [
            "Brasil\n",
            "Chile\n"
          ]
        }
      ]
    },
    {
      "cell_type": "markdown",
      "source": [
        "# Percorrendo Listas\n",
        "\n",
        "* ``for`` é pelo item\n",
        "* ``while`` tem que ser pelo índice"
      ],
      "metadata": {
        "id": "osK_atVVNlft"
      }
    },
    {
      "cell_type": "code",
      "source": [
        "for pais in paises:\n",
        "  print(pais)"
      ],
      "metadata": {
        "colab": {
          "base_uri": "https://localhost:8080/"
        },
        "id": "4o3F12RhNbRX",
        "outputId": "0fd154e5-e8b2-4f15-823f-35ae59786c8b"
      },
      "execution_count": null,
      "outputs": [
        {
          "output_type": "stream",
          "name": "stdout",
          "text": [
            "Brasil\n",
            "Argentina\n",
            "Chile\n",
            "Canadá\n"
          ]
        }
      ]
    },
    {
      "cell_type": "code",
      "source": [
        "# percorrer visualizando o índice\n",
        "for pais in paises:\n",
        "  print(paises.index(pais), pais)"
      ],
      "metadata": {
        "colab": {
          "base_uri": "https://localhost:8080/"
        },
        "id": "9KlnPdZ1N7oH",
        "outputId": "f292efbc-253d-4cfd-c6a6-aae263ab1211"
      },
      "execution_count": null,
      "outputs": [
        {
          "output_type": "stream",
          "name": "stdout",
          "text": [
            "0 Brasil\n",
            "1 Argentina\n",
            "2 Chile\n",
            "3 Canadá\n"
          ]
        }
      ]
    },
    {
      "cell_type": "markdown",
      "source": [
        "# Pertencimento"
      ],
      "metadata": {
        "id": "uSific4hPVr4"
      }
    },
    {
      "cell_type": "code",
      "source": [
        "numeros = [1, 2, 3, 4, 5]\n",
        "print(3 in numeros)\n",
        "print(7 in numeros)\n",
        "print(83 not in numeros)"
      ],
      "metadata": {
        "colab": {
          "base_uri": "https://localhost:8080/"
        },
        "id": "K67yLRBeO-od",
        "outputId": "02e2eed5-4a77-4d0a-e19b-44910bdc60e2"
      },
      "execution_count": null,
      "outputs": [
        {
          "output_type": "stream",
          "name": "stdout",
          "text": [
            "True\n",
            "False\n",
            "True\n"
          ]
        }
      ]
    },
    {
      "cell_type": "markdown",
      "source": [
        "# Operações com Listas\n",
        "\n",
        "*  Inclusão no final: ``append``\n",
        "*  Inclusão pontual: ``insert``\n",
        "*  Remoção no final: ``pop``\n",
        "*  Remoção pontual: ``remove``\n",
        "*  Contagem de itens específicos: ``count``\n",
        "*  Contagem de elementos na lista: ``len``\n",
        "*  Ordenação crescente: ``sort``\n",
        "*  Ordenação reversa: ``reverse``"
      ],
      "metadata": {
        "id": "LlkYDxHHQNxq"
      }
    },
    {
      "cell_type": "code",
      "source": [
        "campus = ['Vergueiro', 'Memorial', 'Vila Prudente', 'Vila Maria']\n",
        "campus"
      ],
      "metadata": {
        "colab": {
          "base_uri": "https://localhost:8080/"
        },
        "id": "ONRqLirvP_Kh",
        "outputId": "2ff9638e-2016-4ab3-d108-c7e7ebf65928"
      },
      "execution_count": null,
      "outputs": [
        {
          "output_type": "execute_result",
          "data": {
            "text/plain": [
              "['Vergueiro', 'Memorial', 'Vila Prudente', 'Vila Maria']"
            ]
          },
          "metadata": {},
          "execution_count": 37
        }
      ]
    },
    {
      "cell_type": "code",
      "source": [
        "# append(value)\n",
        "campus.append('Santo Amaro')\n",
        "campus"
      ],
      "metadata": {
        "colab": {
          "base_uri": "https://localhost:8080/"
        },
        "id": "mbJ1lDw-RGt_",
        "outputId": "2c1b3486-61bf-474f-85e5-cea6c3bd70a9"
      },
      "execution_count": null,
      "outputs": [
        {
          "output_type": "execute_result",
          "data": {
            "text/plain": [
              "['Vergueiro', 'Memorial', 'Vila Prudente', 'Vila Maria', 'Santo Amaro']"
            ]
          },
          "metadata": {},
          "execution_count": 38
        }
      ]
    },
    {
      "cell_type": "code",
      "source": [
        "# insert(index, value)\n",
        "campus.insert(1, 'Araraquara')\n",
        "campus"
      ],
      "metadata": {
        "colab": {
          "base_uri": "https://localhost:8080/"
        },
        "id": "KeJ8cE1iRhO7",
        "outputId": "b3a8a0b6-dd26-4a89-99f6-092bab778ca1"
      },
      "execution_count": null,
      "outputs": [
        {
          "output_type": "execute_result",
          "data": {
            "text/plain": [
              "['Vergueiro',\n",
              " 'Araraquara',\n",
              " 'Memorial',\n",
              " 'Vila Prudente',\n",
              " 'Vila Maria',\n",
              " 'Santo Amaro']"
            ]
          },
          "metadata": {},
          "execution_count": 39
        }
      ]
    },
    {
      "cell_type": "code",
      "source": [
        "# remove(value)\n",
        "campus.remove('Vila Prudente')\n",
        "campus"
      ],
      "metadata": {
        "colab": {
          "base_uri": "https://localhost:8080/"
        },
        "id": "CKWA8g7iRzm8",
        "outputId": "99a36501-ed91-4956-afc1-62ee19559aa9"
      },
      "execution_count": null,
      "outputs": [
        {
          "output_type": "execute_result",
          "data": {
            "text/plain": [
              "['Vergueiro', 'Araraquara', 'Memorial', 'Vila Maria', 'Santo Amaro']"
            ]
          },
          "metadata": {},
          "execution_count": 40
        }
      ]
    },
    {
      "cell_type": "code",
      "source": [
        "campus.append('Memorial')\n",
        "campus"
      ],
      "metadata": {
        "colab": {
          "base_uri": "https://localhost:8080/"
        },
        "id": "Dq4Kov__SgS_",
        "outputId": "75a6efc2-d7f6-4585-8d90-c34e2344cf8c"
      },
      "execution_count": null,
      "outputs": [
        {
          "output_type": "execute_result",
          "data": {
            "text/plain": [
              "['Vergueiro',\n",
              " 'Araraquara',\n",
              " 'Memorial',\n",
              " 'Vila Maria',\n",
              " 'Santo Amaro',\n",
              " 'Memorial']"
            ]
          },
          "metadata": {},
          "execution_count": 41
        }
      ]
    },
    {
      "cell_type": "code",
      "source": [
        "# set() remove valores duplicados e deixa uma \"amostra\"\n",
        "#campus = set(campus)\n",
        "#campus"
      ],
      "metadata": {
        "id": "sdrggZojS249"
      },
      "execution_count": null,
      "outputs": []
    },
    {
      "cell_type": "code",
      "source": [
        "campus.append('Memorial')\n",
        "campus"
      ],
      "metadata": {
        "colab": {
          "base_uri": "https://localhost:8080/"
        },
        "id": "zil0wqRrS77s",
        "outputId": "b59095f6-d7e9-4a13-fded-73c1633be1d9"
      },
      "execution_count": null,
      "outputs": [
        {
          "output_type": "execute_result",
          "data": {
            "text/plain": [
              "['Vergueiro',\n",
              " 'Araraquara',\n",
              " 'Memorial',\n",
              " 'Vila Maria',\n",
              " 'Santo Amaro',\n",
              " 'Memorial',\n",
              " 'Memorial']"
            ]
          },
          "metadata": {},
          "execution_count": 52
        }
      ]
    },
    {
      "cell_type": "code",
      "source": [
        "# contando itens repetidos\n",
        "campus.count('Memorial')"
      ],
      "metadata": {
        "colab": {
          "base_uri": "https://localhost:8080/"
        },
        "id": "BmyBKYU_TdeU",
        "outputId": "875e73fb-1f61-4435-8e9d-b3d20517823b"
      },
      "execution_count": null,
      "outputs": [
        {
          "output_type": "execute_result",
          "data": {
            "text/plain": [
              "3"
            ]
          },
          "metadata": {},
          "execution_count": 44
        }
      ]
    },
    {
      "cell_type": "code",
      "source": [
        "# remover do final da lista\n",
        "campus.pop()\n",
        "campus"
      ],
      "metadata": {
        "colab": {
          "base_uri": "https://localhost:8080/"
        },
        "id": "IvwJb6etTt7y",
        "outputId": "720c4446-3034-4c48-ed79-ca26a05064fa"
      },
      "execution_count": null,
      "outputs": [
        {
          "output_type": "execute_result",
          "data": {
            "text/plain": [
              "['Vergueiro',\n",
              " 'Araraquara',\n",
              " 'Memorial',\n",
              " 'Vila Maria',\n",
              " 'Santo Amaro',\n",
              " 'Memorial']"
            ]
          },
          "metadata": {},
          "execution_count": 45
        }
      ]
    },
    {
      "cell_type": "code",
      "source": [
        "# contando itens repetidos (ocorrências)\n",
        "campus.count('Memorial')"
      ],
      "metadata": {
        "colab": {
          "base_uri": "https://localhost:8080/"
        },
        "id": "UVn-tZWBUD9l",
        "outputId": "9bd5515d-7870-4465-d9a2-1eff79b680eb"
      },
      "execution_count": null,
      "outputs": [
        {
          "output_type": "execute_result",
          "data": {
            "text/plain": [
              "2"
            ]
          },
          "metadata": {},
          "execution_count": 46
        }
      ]
    },
    {
      "cell_type": "code",
      "source": [
        "# quantos campus tem na lista?\n",
        "len(campus)"
      ],
      "metadata": {
        "colab": {
          "base_uri": "https://localhost:8080/"
        },
        "id": "S0ggV5n1USQP",
        "outputId": "c24de603-81fc-457d-9608-903754cf43f4"
      },
      "execution_count": null,
      "outputs": [
        {
          "output_type": "execute_result",
          "data": {
            "text/plain": [
              "6"
            ]
          },
          "metadata": {},
          "execution_count": 47
        }
      ]
    },
    {
      "cell_type": "markdown",
      "source": [
        "# Fatiamento de lista ou ``slice``\n",
        "\n",
        "```\n",
        "lista[start, end(-1)]\n",
        "```"
      ],
      "metadata": {
        "id": "e3p_ig8mV8nE"
      }
    },
    {
      "cell_type": "code",
      "source": [
        "#['Vergueiro',     0 \n",
        "# 'Araraquara',    1\n",
        "# 'Memorial',      2\n",
        "# 'Vila Maria',    3\n",
        "# 'Santo Amaro',   4\n",
        "# 'Memorial',      5\n",
        "# 'Memorial']      6\n",
        "print(campus[1:3]) # intervalo\n",
        "print(campus[:4]) # do ínicio até o limite\n",
        "print(campus[3:]) # início até o final\n",
        "print(campus[0:2:2])\n",
        "\n",
        "# slice(start, end, step)"
      ],
      "metadata": {
        "colab": {
          "base_uri": "https://localhost:8080/"
        },
        "id": "AQV4qJp0VcOh",
        "outputId": "b141eab2-2765-4952-9b4c-f922101eafc1"
      },
      "execution_count": null,
      "outputs": [
        {
          "output_type": "stream",
          "name": "stdout",
          "text": [
            "['Araraquara', 'Memorial']\n",
            "['Vergueiro', 'Araraquara', 'Memorial', 'Vila Maria']\n",
            "['Vila Maria', 'Santo Amaro', 'Memorial', 'Memorial']\n",
            "['Vergueiro']\n"
          ]
        }
      ]
    },
    {
      "cell_type": "markdown",
      "source": [
        "# Ordenação\n",
        "*  ``sort``\n",
        "*  ``reverse``"
      ],
      "metadata": {
        "id": "Y62otiqEamlT"
      }
    },
    {
      "cell_type": "code",
      "source": [
        "lista = [1, -5, 3, 2, 78, 19, -4]\n",
        "\n",
        "# ordenação do menor para o maior\n",
        "lista.sort()\n",
        "lista.reverse()\n",
        "lista"
      ],
      "metadata": {
        "colab": {
          "base_uri": "https://localhost:8080/"
        },
        "id": "Vjju3ViuX-gP",
        "outputId": "bf2e4a25-aca9-4b4b-f8a2-3f6568ce9f02"
      },
      "execution_count": null,
      "outputs": [
        {
          "output_type": "execute_result",
          "data": {
            "text/plain": [
              "[78, 19, 3, 2, 1, -4, -5]"
            ]
          },
          "metadata": {},
          "execution_count": 75
        }
      ]
    },
    {
      "cell_type": "code",
      "source": [
        "lista = [1, -5, 3, 2, 78, 19, -4]\n",
        "# reverse\n",
        "lista.reverse()\n",
        "lista"
      ],
      "metadata": {
        "colab": {
          "base_uri": "https://localhost:8080/"
        },
        "id": "VEDThtjubHhq",
        "outputId": "88be4025-e9c8-433b-e63e-b46c13c89761"
      },
      "execution_count": null,
      "outputs": [
        {
          "output_type": "execute_result",
          "data": {
            "text/plain": [
              "[-4, 19, 78, 2, 3, -5, 1]"
            ]
          },
          "metadata": {},
          "execution_count": 74
        }
      ]
    },
    {
      "cell_type": "markdown",
      "source": [
        "# Cálculos em Listas\n",
        "*  Máximo ``max()``\n",
        "*  Mínimo ``min()``\n",
        "*  Soma ``sum()``"
      ],
      "metadata": {
        "id": "O0x8Nzz5bztv"
      }
    },
    {
      "cell_type": "code",
      "source": [
        "#        0   1  2  3   4   5   6 quantidade de elementos menos um\n",
        "lista = [1, -5, 3, 2, 78, 19, -4]\n",
        "\n",
        "print('Máximo:', max(lista))\n",
        "print('Mínimo:', min(lista))\n",
        "print('Soma:', sum(lista))"
      ],
      "metadata": {
        "colab": {
          "base_uri": "https://localhost:8080/"
        },
        "id": "WbD_tZqPbUbf",
        "outputId": "da654319-7d95-4e3b-c704-9c549e9020b8"
      },
      "execution_count": null,
      "outputs": [
        {
          "output_type": "stream",
          "name": "stdout",
          "text": [
            "Máximo: 78\n",
            "Mínimo: -5\n",
            "Soma: 94\n"
          ]
        }
      ]
    },
    {
      "cell_type": "markdown",
      "source": [
        "____\n",
        "# ATIVIDADE\n",
        "\n",
        "Elaborar um algoritmo que receba um conjunto de pessoas (10 entradas) que contenha: nome, idade e peso. Mostrar a maior e a menor idade, além da média da idade e do peso.\n",
        "\n",
        "Exemplo de saída: \n",
        "+ Maior idade:\n",
        "+ Menor idade:\n",
        "+ Média da idade:\n",
        "+ Média do peso:"
      ],
      "metadata": {
        "id": "WwNQUg_9c4Mm"
      }
    },
    {
      "cell_type": "code",
      "source": [
        "pessoas = [\n",
        "            ['Edson', 49, 114, 1.76]\n",
        "            ['Maria', 35, 64, 1.62]\n",
        "            ['Jorge', 18, 95, 1.84]\n",
        "            ['Ana', 23, 48, 1.52]\n",
        "            ['Rafael', 29, 84, 1.86]\n",
        "            ['Catarina', 35, 64, 1.62]\n",
        "            ['Victória', 18, 55, 1.64]\n",
        "            ['Roque', 3, 28, 1.2]\n",
        "            ['Neuzaci', 59, 64, 1.66]\n",
        "            ['José', 65, 74, 1.72]\n",
        "          ]\n",
        "type(pessoas)\n",
        "idades = []\n",
        "pesos = []\n",
        "for nome in pessoas:\n",
        "    idades.append(nome[1])\n",
        "    pesos.append(nome[2])\n",
        "\n",
        "print('Maior:', max(idades))\n",
        "print('Menor:', min(idades))\n",
        "print('Média Idade:', ( sum(idades) /  len(idades)))\n",
        "print('Média Peso:',  (sum(pesos) / len(idades)))\n"
      ],
      "metadata": {
        "id": "rtTuNOAKdnkE"
      },
      "execution_count": null,
      "outputs": []
    }
  ]
}